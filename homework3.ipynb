{
  "cells": [
    {
      "cell_type": "markdown",
      "metadata": {
        "id": "view-in-github",
        "colab_type": "text"
      },
      "source": [
        "<a href=\"https://colab.research.google.com/github/amitreddy/rutgers-datamining/blob/main/homework3.ipynb\" target=\"_parent\"><img src=\"https://colab.research.google.com/assets/colab-badge.svg\" alt=\"Open In Colab\"/></a>"
      ]
    },
    {
      "cell_type": "markdown",
      "id": "e97c1c7a",
      "metadata": {
        "id": "e97c1c7a"
      },
      "source": [
        "To open in colab: [![Open In Colab](https://colab.research.google.com/assets/colab-badge.svg)](https://colab.research.google.com/gist/bellecp/3d726ac25505a076ab4c39b85db50c80/Homework3.ipynb)"
      ]
    },
    {
      "cell_type": "code",
      "execution_count": null,
      "id": "ae702170",
      "metadata": {
        "id": "ae702170"
      },
      "outputs": [],
      "source": [
        "# netid: \n",
        "# name: "
      ]
    },
    {
      "cell_type": "code",
      "execution_count": null,
      "id": "318e0d6c",
      "metadata": {
        "id": "318e0d6c"
      },
      "outputs": [],
      "source": [
        "import numpy as np\n",
        "import matplotlib.pyplot as plt\n",
        "plt.rcParams[\"figure.figsize\"] = (21,12)\n",
        "plt.rcParams[\"lines.linewidth\"] = 4\n",
        "plt.rcParams[\"font.size\"] = 24\n",
        "plt.rcParams['lines.markersize'] = 10"
      ]
    },
    {
      "cell_type": "markdown",
      "id": "b2013126",
      "metadata": {
        "id": "b2013126"
      },
      "source": [
        "# Exercise on reshape\n",
        "\n",
        "Explain below why ``aa`` and ``aaa`` are different. That's way it is best to avoid ``reshape`` and use instead ``np.transpose``, ``np.swapaxes``, etc and ``np.newaxis`` to add axis of length 1 (https://stackoverflow.com/questions/29241056/how-does-numpy-newaxis-work-and-when-to-use-it)"
      ]
    },
    {
      "cell_type": "code",
      "execution_count": null,
      "id": "6c14e0df",
      "metadata": {
        "id": "6c14e0df",
        "outputId": "b730d6ba-6c13-4c5f-e9b8-9d3fc32f3fae"
      },
      "outputs": [
        {
          "data": {
            "text/plain": [
              "(3, 2)"
            ]
          },
          "execution_count": 4,
          "metadata": {},
          "output_type": "execute_result"
        }
      ],
      "source": [
        "a = np.array([[1.5, 1.6],\n",
        "              [2.5, 2.6],\n",
        "              [3.5, 3.6]])\n",
        "a.shape"
      ]
    },
    {
      "cell_type": "code",
      "execution_count": null,
      "id": "79a4e375",
      "metadata": {
        "id": "79a4e375",
        "outputId": "30fb9280-c80a-49d3-dd1b-19e3e025264c"
      },
      "outputs": [
        {
          "data": {
            "text/plain": [
              "array([[1.5, 2.5, 3.5],\n",
              "       [1.6, 2.6, 3.6]])"
            ]
          },
          "execution_count": 5,
          "metadata": {},
          "output_type": "execute_result"
        }
      ],
      "source": [
        "aa = a.T\n",
        "aa"
      ]
    },
    {
      "cell_type": "code",
      "execution_count": null,
      "id": "57333f0d",
      "metadata": {
        "id": "57333f0d",
        "outputId": "995e28b5-8cb9-433e-ef8b-b4d2e2ff0bb3"
      },
      "outputs": [
        {
          "data": {
            "text/plain": [
              "array([[1.5, 1.6, 2.5],\n",
              "       [2.6, 3.5, 3.6]])"
            ]
          },
          "execution_count": 6,
          "metadata": {},
          "output_type": "execute_result"
        }
      ],
      "source": [
        "aaa = a.reshape((2, 3))\n",
        "aaa"
      ]
    },
    {
      "cell_type": "markdown",
      "id": "a197be0d",
      "metadata": {
        "id": "a197be0d"
      },
      "source": [
        "# Problem: spinal bone mineral density measurements dataset\n",
        "\n",
        "We will apply local polynomial regression to the following dataset:\n",
        "\n",
        "<https://hastie.su.domains/ElemStatLearn/datasets/bone.info.txt>\n",
        "\n",
        "<https://hastie.su.domains/ElemStatLearn/datasets/bone.data>\n",
        "\n",
        "For convenience (and to show the reader how one can load data into the python pandas DataFrame), here is some code to load the dataset."
      ]
    },
    {
      "cell_type": "code",
      "execution_count": null,
      "id": "cb981a76",
      "metadata": {
        "id": "cb981a76",
        "outputId": "15f58065-a5bd-42d1-ae63-db2aab386fd1"
      },
      "outputs": [
        {
          "data": {
            "text/html": [
              "<div>\n",
              "<style scoped>\n",
              "    .dataframe tbody tr th:only-of-type {\n",
              "        vertical-align: middle;\n",
              "    }\n",
              "\n",
              "    .dataframe tbody tr th {\n",
              "        vertical-align: top;\n",
              "    }\n",
              "\n",
              "    .dataframe thead th {\n",
              "        text-align: right;\n",
              "    }\n",
              "</style>\n",
              "<table border=\"1\" class=\"dataframe\">\n",
              "  <thead>\n",
              "    <tr style=\"text-align: right;\">\n",
              "      <th></th>\n",
              "      <th>idnum</th>\n",
              "      <th>age</th>\n",
              "      <th>gender</th>\n",
              "      <th>spnbmd</th>\n",
              "    </tr>\n",
              "  </thead>\n",
              "  <tbody>\n",
              "    <tr>\n",
              "      <th>0</th>\n",
              "      <td>1</td>\n",
              "      <td>11.70</td>\n",
              "      <td>male</td>\n",
              "      <td>0.018081</td>\n",
              "    </tr>\n",
              "    <tr>\n",
              "      <th>1</th>\n",
              "      <td>1</td>\n",
              "      <td>12.70</td>\n",
              "      <td>male</td>\n",
              "      <td>0.060109</td>\n",
              "    </tr>\n",
              "    <tr>\n",
              "      <th>2</th>\n",
              "      <td>1</td>\n",
              "      <td>13.75</td>\n",
              "      <td>male</td>\n",
              "      <td>0.005858</td>\n",
              "    </tr>\n",
              "    <tr>\n",
              "      <th>3</th>\n",
              "      <td>2</td>\n",
              "      <td>13.25</td>\n",
              "      <td>male</td>\n",
              "      <td>0.010264</td>\n",
              "    </tr>\n",
              "    <tr>\n",
              "      <th>4</th>\n",
              "      <td>2</td>\n",
              "      <td>14.30</td>\n",
              "      <td>male</td>\n",
              "      <td>0.210526</td>\n",
              "    </tr>\n",
              "    <tr>\n",
              "      <th>...</th>\n",
              "      <td>...</td>\n",
              "      <td>...</td>\n",
              "      <td>...</td>\n",
              "      <td>...</td>\n",
              "    </tr>\n",
              "    <tr>\n",
              "      <th>480</th>\n",
              "      <td>380</td>\n",
              "      <td>11.60</td>\n",
              "      <td>male</td>\n",
              "      <td>0.116368</td>\n",
              "    </tr>\n",
              "    <tr>\n",
              "      <th>481</th>\n",
              "      <td>381</td>\n",
              "      <td>9.80</td>\n",
              "      <td>female</td>\n",
              "      <td>0.097902</td>\n",
              "    </tr>\n",
              "    <tr>\n",
              "      <th>482</th>\n",
              "      <td>382</td>\n",
              "      <td>11.90</td>\n",
              "      <td>male</td>\n",
              "      <td>0.028986</td>\n",
              "    </tr>\n",
              "    <tr>\n",
              "      <th>483</th>\n",
              "      <td>383</td>\n",
              "      <td>11.20</td>\n",
              "      <td>male</td>\n",
              "      <td>-0.064103</td>\n",
              "    </tr>\n",
              "    <tr>\n",
              "      <th>484</th>\n",
              "      <td>384</td>\n",
              "      <td>9.80</td>\n",
              "      <td>female</td>\n",
              "      <td>0.049908</td>\n",
              "    </tr>\n",
              "  </tbody>\n",
              "</table>\n",
              "<p>485 rows × 4 columns</p>\n",
              "</div>"
            ],
            "text/plain": [
              "     idnum    age  gender    spnbmd\n",
              "0        1  11.70    male  0.018081\n",
              "1        1  12.70    male  0.060109\n",
              "2        1  13.75    male  0.005858\n",
              "3        2  13.25    male  0.010264\n",
              "4        2  14.30    male  0.210526\n",
              "..     ...    ...     ...       ...\n",
              "480    380  11.60    male  0.116368\n",
              "481    381   9.80  female  0.097902\n",
              "482    382  11.90    male  0.028986\n",
              "483    383  11.20    male -0.064103\n",
              "484    384   9.80  female  0.049908\n",
              "\n",
              "[485 rows x 4 columns]"
            ]
          },
          "execution_count": 7,
          "metadata": {},
          "output_type": "execute_result"
        }
      ],
      "source": [
        "import pandas as pd\n",
        "df = pd.read_csv(\"https://hastie.su.domains/ElemStatLearn/datasets/bone.data\", sep=\"\\t\")\n",
        "df"
      ]
    },
    {
      "cell_type": "code",
      "execution_count": null,
      "id": "70f66dd8",
      "metadata": {
        "id": "70f66dd8",
        "outputId": "6e0711c3-18b2-4de8-8a6d-c069dad0db8f"
      },
      "outputs": [
        {
          "data": {
            "text/html": [
              "<div>\n",
              "<style scoped>\n",
              "    .dataframe tbody tr th:only-of-type {\n",
              "        vertical-align: middle;\n",
              "    }\n",
              "\n",
              "    .dataframe tbody tr th {\n",
              "        vertical-align: top;\n",
              "    }\n",
              "\n",
              "    .dataframe thead th {\n",
              "        text-align: right;\n",
              "    }\n",
              "</style>\n",
              "<table border=\"1\" class=\"dataframe\">\n",
              "  <thead>\n",
              "    <tr style=\"text-align: right;\">\n",
              "      <th></th>\n",
              "      <th>idnum</th>\n",
              "      <th>age</th>\n",
              "      <th>gender</th>\n",
              "      <th>spnbmd</th>\n",
              "    </tr>\n",
              "  </thead>\n",
              "  <tbody>\n",
              "    <tr>\n",
              "      <th>0</th>\n",
              "      <td>1</td>\n",
              "      <td>11.70</td>\n",
              "      <td>male</td>\n",
              "      <td>0.018081</td>\n",
              "    </tr>\n",
              "    <tr>\n",
              "      <th>1</th>\n",
              "      <td>1</td>\n",
              "      <td>12.70</td>\n",
              "      <td>male</td>\n",
              "      <td>0.060109</td>\n",
              "    </tr>\n",
              "    <tr>\n",
              "      <th>2</th>\n",
              "      <td>1</td>\n",
              "      <td>13.75</td>\n",
              "      <td>male</td>\n",
              "      <td>0.005858</td>\n",
              "    </tr>\n",
              "    <tr>\n",
              "      <th>3</th>\n",
              "      <td>2</td>\n",
              "      <td>13.25</td>\n",
              "      <td>male</td>\n",
              "      <td>0.010264</td>\n",
              "    </tr>\n",
              "    <tr>\n",
              "      <th>4</th>\n",
              "      <td>2</td>\n",
              "      <td>14.30</td>\n",
              "      <td>male</td>\n",
              "      <td>0.210526</td>\n",
              "    </tr>\n",
              "    <tr>\n",
              "      <th>...</th>\n",
              "      <td>...</td>\n",
              "      <td>...</td>\n",
              "      <td>...</td>\n",
              "      <td>...</td>\n",
              "    </tr>\n",
              "    <tr>\n",
              "      <th>473</th>\n",
              "      <td>367</td>\n",
              "      <td>14.65</td>\n",
              "      <td>male</td>\n",
              "      <td>0.049660</td>\n",
              "    </tr>\n",
              "    <tr>\n",
              "      <th>478</th>\n",
              "      <td>377</td>\n",
              "      <td>9.60</td>\n",
              "      <td>male</td>\n",
              "      <td>0.016978</td>\n",
              "    </tr>\n",
              "    <tr>\n",
              "      <th>480</th>\n",
              "      <td>380</td>\n",
              "      <td>11.60</td>\n",
              "      <td>male</td>\n",
              "      <td>0.116368</td>\n",
              "    </tr>\n",
              "    <tr>\n",
              "      <th>482</th>\n",
              "      <td>382</td>\n",
              "      <td>11.90</td>\n",
              "      <td>male</td>\n",
              "      <td>0.028986</td>\n",
              "    </tr>\n",
              "    <tr>\n",
              "      <th>483</th>\n",
              "      <td>383</td>\n",
              "      <td>11.20</td>\n",
              "      <td>male</td>\n",
              "      <td>-0.064103</td>\n",
              "    </tr>\n",
              "  </tbody>\n",
              "</table>\n",
              "<p>226 rows × 4 columns</p>\n",
              "</div>"
            ],
            "text/plain": [
              "     idnum    age gender    spnbmd\n",
              "0        1  11.70   male  0.018081\n",
              "1        1  12.70   male  0.060109\n",
              "2        1  13.75   male  0.005858\n",
              "3        2  13.25   male  0.010264\n",
              "4        2  14.30   male  0.210526\n",
              "..     ...    ...    ...       ...\n",
              "473    367  14.65   male  0.049660\n",
              "478    377   9.60   male  0.016978\n",
              "480    380  11.60   male  0.116368\n",
              "482    382  11.90   male  0.028986\n",
              "483    383  11.20   male -0.064103\n",
              "\n",
              "[226 rows x 4 columns]"
            ]
          },
          "execution_count": 13,
          "metadata": {},
          "output_type": "execute_result"
        }
      ],
      "source": [
        "df_male = df[df.gender == \"male\"]\n",
        "df_male"
      ]
    },
    {
      "cell_type": "code",
      "execution_count": null,
      "id": "802f83ea",
      "metadata": {
        "id": "802f83ea",
        "outputId": "1b484231-cd0d-40e3-b28a-b3f0c6aac6c7"
      },
      "outputs": [
        {
          "data": {
            "text/plain": [
              "<AxesSubplot:xlabel='age', ylabel='spnbmd'>"
            ]
          },
          "execution_count": 16,
          "metadata": {},
          "output_type": "execute_result"
        },
        {
          "data": {
            "image/png": "[encoded data removed]",
            "text/plain": [
              "<Figure size 432x288 with 1 Axes>"
            ]
          },
          "metadata": {
            "needs_background": "light"
          },
          "output_type": "display_data"
        }
      ],
      "source": [
        "df_male.plot.scatter(x=\"age\", y=\"spnbmd\")"
      ]
    },
    {
      "cell_type": "code",
      "execution_count": null,
      "id": "19465df7",
      "metadata": {
        "id": "19465df7",
        "outputId": "4f7791ff-dde3-45f1-dd15-d7ddc99b259f"
      },
      "outputs": [
        {
          "data": {
            "text/html": [
              "<div>\n",
              "<style scoped>\n",
              "    .dataframe tbody tr th:only-of-type {\n",
              "        vertical-align: middle;\n",
              "    }\n",
              "\n",
              "    .dataframe tbody tr th {\n",
              "        vertical-align: top;\n",
              "    }\n",
              "\n",
              "    .dataframe thead th {\n",
              "        text-align: right;\n",
              "    }\n",
              "</style>\n",
              "<table border=\"1\" class=\"dataframe\">\n",
              "  <thead>\n",
              "    <tr style=\"text-align: right;\">\n",
              "      <th></th>\n",
              "      <th>idnum</th>\n",
              "      <th>age</th>\n",
              "      <th>gender</th>\n",
              "      <th>spnbmd</th>\n",
              "    </tr>\n",
              "  </thead>\n",
              "  <tbody>\n",
              "    <tr>\n",
              "      <th>9</th>\n",
              "      <td>4</td>\n",
              "      <td>10.55</td>\n",
              "      <td>female</td>\n",
              "      <td>0.108043</td>\n",
              "    </tr>\n",
              "    <tr>\n",
              "      <th>10</th>\n",
              "      <td>4</td>\n",
              "      <td>11.50</td>\n",
              "      <td>female</td>\n",
              "      <td>0.219913</td>\n",
              "    </tr>\n",
              "    <tr>\n",
              "      <th>11</th>\n",
              "      <td>4</td>\n",
              "      <td>12.55</td>\n",
              "      <td>female</td>\n",
              "      <td>0.076641</td>\n",
              "    </tr>\n",
              "    <tr>\n",
              "      <th>12</th>\n",
              "      <td>5</td>\n",
              "      <td>12.75</td>\n",
              "      <td>female</td>\n",
              "      <td>0.096414</td>\n",
              "    </tr>\n",
              "    <tr>\n",
              "      <th>13</th>\n",
              "      <td>5</td>\n",
              "      <td>13.70</td>\n",
              "      <td>female</td>\n",
              "      <td>0.043817</td>\n",
              "    </tr>\n",
              "    <tr>\n",
              "      <th>...</th>\n",
              "      <td>...</td>\n",
              "      <td>...</td>\n",
              "      <td>...</td>\n",
              "      <td>...</td>\n",
              "    </tr>\n",
              "    <tr>\n",
              "      <th>476</th>\n",
              "      <td>374</td>\n",
              "      <td>15.15</td>\n",
              "      <td>female</td>\n",
              "      <td>0.013456</td>\n",
              "    </tr>\n",
              "    <tr>\n",
              "      <th>477</th>\n",
              "      <td>375</td>\n",
              "      <td>16.20</td>\n",
              "      <td>female</td>\n",
              "      <td>0.012124</td>\n",
              "    </tr>\n",
              "    <tr>\n",
              "      <th>479</th>\n",
              "      <td>379</td>\n",
              "      <td>13.60</td>\n",
              "      <td>female</td>\n",
              "      <td>0.050042</td>\n",
              "    </tr>\n",
              "    <tr>\n",
              "      <th>481</th>\n",
              "      <td>381</td>\n",
              "      <td>9.80</td>\n",
              "      <td>female</td>\n",
              "      <td>0.097902</td>\n",
              "    </tr>\n",
              "    <tr>\n",
              "      <th>484</th>\n",
              "      <td>384</td>\n",
              "      <td>9.80</td>\n",
              "      <td>female</td>\n",
              "      <td>0.049908</td>\n",
              "    </tr>\n",
              "  </tbody>\n",
              "</table>\n",
              "<p>259 rows × 4 columns</p>\n",
              "</div>"
            ],
            "text/plain": [
              "     idnum    age  gender    spnbmd\n",
              "9        4  10.55  female  0.108043\n",
              "10       4  11.50  female  0.219913\n",
              "11       4  12.55  female  0.076641\n",
              "12       5  12.75  female  0.096414\n",
              "13       5  13.70  female  0.043817\n",
              "..     ...    ...     ...       ...\n",
              "476    374  15.15  female  0.013456\n",
              "477    375  16.20  female  0.012124\n",
              "479    379  13.60  female  0.050042\n",
              "481    381   9.80  female  0.097902\n",
              "484    384   9.80  female  0.049908\n",
              "\n",
              "[259 rows x 4 columns]"
            ]
          },
          "execution_count": 17,
          "metadata": {},
          "output_type": "execute_result"
        }
      ],
      "source": [
        "df_female = df[df.gender == \"female\"]\n",
        "df_female"
      ]
    },
    {
      "cell_type": "code",
      "execution_count": null,
      "id": "22fec5fa",
      "metadata": {
        "id": "22fec5fa",
        "outputId": "773d56b0-0d5a-42af-dd23-6615b7a68f54"
      },
      "outputs": [
        {
          "data": {
            "text/plain": [
              "<AxesSubplot:xlabel='age', ylabel='spnbmd'>"
            ]
          },
          "execution_count": 18,
          "metadata": {},
          "output_type": "execute_result"
        },
        {
          "data": {
            "image/png": "[encoded data removed]",
            "text/plain": [
              "<Figure size 432x288 with 1 Axes>"
            ]
          },
          "metadata": {
            "needs_background": "light"
          },
          "output_type": "display_data"
        }
      ],
      "source": [
        "df_female.plot.scatter(x=\"age\", y=\"spnbmd\")"
      ]
    },
    {
      "cell_type": "code",
      "execution_count": null,
      "id": "83257808",
      "metadata": {
        "scrolled": true,
        "id": "83257808",
        "outputId": "a467040f-ce8a-431d-e65b-cea7326c236b"
      },
      "outputs": [
        {
          "data": {
            "text/plain": [
              "<AxesSubplot:xlabel='age', ylabel='spnbmd'>"
            ]
          },
          "execution_count": 31,
          "metadata": {},
          "output_type": "execute_result"
        },
        {
          "data": {
            "image/png": "[encoded data removed]",
            "text/plain": [
              "<Figure size 432x288 with 1 Axes>"
            ]
          },
          "metadata": {
            "needs_background": "light"
          },
          "output_type": "display_data"
        }
      ],
      "source": [
        "import seaborn as sns\n",
        "sns.scatterplot(data=df, x=\"age\", y=\"spnbmd\", hue=\"gender\")"
      ]
    },
    {
      "cell_type": "markdown",
      "id": "baeb9dde",
      "metadata": {
        "id": "baeb9dde"
      },
      "source": [
        "### Convert pandas DataFrame to numpy\n",
        "\n",
        "One can easily convert a DataFrame into numpy arrays if needed."
      ]
    },
    {
      "cell_type": "code",
      "execution_count": null,
      "id": "914d322b",
      "metadata": {
        "scrolled": true,
        "id": "914d322b",
        "outputId": "e588b183-78f1-49f8-e399-cbc8b776f9b6"
      },
      "outputs": [
        {
          "data": {
            "text/plain": [
              "(226,)"
            ]
          },
          "execution_count": 35,
          "metadata": {},
          "output_type": "execute_result"
        }
      ],
      "source": [
        "X_male = df_male['age'].to_numpy()\n",
        "X_male.shape"
      ]
    },
    {
      "cell_type": "markdown",
      "id": "b2fd57f0",
      "metadata": {
        "id": "b2fd57f0"
      },
      "source": [
        "### Problem\n",
        "\n",
        "The goal is to perform a local polynomial regression of the ``spnbmd`` column (the y-axis) onto age (the x-axis). See <https://hastie.su.domains/ElemStatLearn/datasets/bone.info.txt> on how the dataset was collected.\n",
        "\n",
        "### Question 1\n",
        "For each of the two datasets (the male dataset and the female dataset), split the dataset into a training (66.6%) and a test set (33.4%)."
      ]
    },
    {
      "cell_type": "code",
      "execution_count": null,
      "id": "0c8ee8df",
      "metadata": {
        "id": "0c8ee8df"
      },
      "outputs": [],
      "source": [
        ""
      ]
    },
    {
      "cell_type": "markdown",
      "id": "816ffd02",
      "metadata": {
        "id": "816ffd02"
      },
      "source": [
        "### Question 2\n",
        "\n",
        "For each bandwidth parameter in ``[0.001*2**k for k in range(15)]``, and each polynomial degree ``m`` in ``[0, 1, 2, 3, 4, 6, 9, 12, 15]``, and each of the two kernel functions $D(t)=\\exp(-t^2/2)$ and $D(t) = \\sin(t)^2/t^2$, construct a local polynomial regression fit using the training set, and compute the test error on the test set. The  combination of bandwidth, polynomial degree and kernel function may be different on the two datasets (male dataset, female dataset).\n",
        "\n",
        "The function $t\\mapsto \\sin(t)/t$ can be accesed in numpy with ``np.sinc(t)``.\n"
      ]
    },
    {
      "cell_type": "code",
      "execution_count": null,
      "id": "3363b46a",
      "metadata": {
        "id": "3363b46a"
      },
      "outputs": [],
      "source": [
        ""
      ]
    },
    {
      "cell_type": "markdown",
      "id": "e7aeaeef",
      "metadata": {
        "id": "e7aeaeef"
      },
      "source": [
        "### Question 3\n",
        "\n",
        "In the same picture, plot \n",
        "\n",
        "- a scatter plot of the male dataset, and a scatter plot of the female dataset (in a different color)\n",
        "- the local polynomial regression (with parameters tuned on the test set) for the male dataset on a grid of 200 points from 9.0 to 27.0\n",
        "- a meaningful legend"
      ]
    },
    {
      "cell_type": "code",
      "execution_count": null,
      "id": "89aae1da",
      "metadata": {
        "id": "89aae1da"
      },
      "outputs": [],
      "source": [
        ""
      ]
    }
  ],
  "metadata": {
    "jupytext": {
      "text_representation": {
        "extension": ".py",
        "format_name": "light",
        "format_version": "1.5",
        "jupytext_version": "1.13.4"
      }
    },
    "kernelspec": {
      "display_name": "Python 3",
      "language": "python",
      "name": "python3"
    },
    "language_info": {
      "codemirror_mode": {
        "name": "ipython",
        "version": 3
      },
      "file_extension": ".py",
      "mimetype": "text/x-python",
      "name": "python",
      "nbconvert_exporter": "python",
      "pygments_lexer": "ipython3",
      "version": "3.7.3"
    },
    "colab": {
      "name": "homework3.ipynb",
      "provenance": [],
      "include_colab_link": true
    }
  },
  "nbformat": 4,
  "nbformat_minor": 5
}